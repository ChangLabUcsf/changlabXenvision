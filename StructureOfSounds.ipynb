{
 "cells": [
  {
   "cell_type": "markdown",
   "metadata": {
    "id": "_AtEwPOGJWwT"
   },
   "source": [
    "\n",
    "# ENVISION Internship: Chang Lab Python Tutorial\n",
    "## Structures of Sounds\n",
    "### April 5, 2022\n",
    "__Chang Lab contact:__ jessie.liu@ucsf.edu\n"
   ]
  },
  {
   "cell_type": "markdown",
   "metadata": {
    "id": "MZgUDXXEJ6gX",
    "tags": []
   },
   "source": [
    "___\n",
    "# Overview and Objectives\n",
    "This is a tutorial that will introduce you to the basics of **analyzing and visualizing speech sounds using online coding tools**.\n",
    "\n",
    "Our primary objective in this tutorial is:\n",
    "- Learn how to visualize speech sounds in multiple ways.\n",
    "- Learn about frequency content in speech sounds."
   ]
  },
  {
   "cell_type": "markdown",
   "metadata": {
    "id": "wEkKLEFzJQb6"
   },
   "source": [
    "# Python Notebook Intro"
   ]
  },
  {
   "cell_type": "markdown",
   "metadata": {
    "id": "PW3FtndvhjKM"
   },
   "source": [
    "The interactive tool we are using right now is called a code notebook. It is a digital \"notebook\" you can use to store and run your Python code. You can also make notes, and visualize the results of what it is you are coding. This digital notebook makes it easy to organize your code by splitting it up into little blocks. We call each of these little blocks a *cell*. \n",
    "\n",
    "Some quick basics, \n",
    "- A *text cell* displays some text on the screen. If you are in Google Colab, add a text cell by pressing the ```+ Text``` button on the top left corner of the window. If you are using Binder or Jupyter, add a new cell with the `+` button in the top left corner and change the style to `Markdown` in the dropdown menu on the same toolbar. You can directly type into the text editor.\n",
    "- A *code cell* lets you write and run Python code. If you are in Google Colab, add a code cell by pressing the ```+ Code``` button on the top left corner of the window. If you are using Binder or Jupyter, add a new cell with the `+` button in the top left corner and change the style to `Code` in the dropdown menu on the same toolbar. We'll see how to use this below!\n",
    "- To edit any existing cell, directly click into the cell and begin typing (double click for Text cells and single click for Code cells)."
   ]
  },
  {
   "cell_type": "markdown",
   "metadata": {
    "id": "oeXLjUNNN_2t"
   },
   "source": [
    "### **Activity 0: Using a Python notebook**\n",
    "**Practice adding an empty text cell and a code cell underneath this one!**"
   ]
  },
  {
   "cell_type": "markdown",
   "metadata": {
    "id": "UlKcaRGmgY8C"
   },
   "source": [
    "# Using Python\n"
   ]
  },
  {
   "cell_type": "markdown",
   "metadata": {
    "id": "sHrJAouogUFO"
   },
   "source": [
    "Python is a free programming language that makes it possible to do lots of amazing things! \n",
    "\n",
    "One great thing about using Python is that there are many accessible toolkits that people have already built that we can use. These toolkits are called *packages* and can contain a few or hundreds of tools. Using packages means that we do not have to code everything from scratch, which saves us time! To use a package in Python, you need to *import* the package. Run the code cell below (press the play button in the upper left hand corner) to import the packages we need to get our notebook ready for science!"
   ]
  },
  {
   "cell_type": "code",
   "execution_count": null,
   "metadata": {
    "id": "lHS8lYbn1zkL"
   },
   "outputs": [],
   "source": [
    "# Run this as a test\n",
    "import os\n",
    "\n",
    "# If using Google Colab, this let's Colab see the other files in your Drive so\n",
    "# we can load data and code.\n",
    "if os.getcwd() == '/content':\n",
    "    from google.colab import drive\n",
    "    drive.mount('/content/drive')\n",
    "    os.chdir('/content/drive/MyDrive/changlabXenvision-main')"
   ]
  },
  {
   "cell_type": "markdown",
   "metadata": {
    "id": "HY_9WTDZ2SsU"
   },
   "source": [
    "Execute the next code cell (press the play button in the upper left hand corner) to load in all the other toolkits we will need for this tutorial!"
   ]
  },
  {
   "cell_type": "code",
   "execution_count": null,
   "metadata": {
    "id": "KETaZ3Pt2Pwu"
   },
   "outputs": [],
   "source": [
    "# Importing other useful Python toolkits\n",
    "# Imports\n",
    "import pickle\n",
    "\n",
    "# More packages we need for plotting\n",
    "from IPython import display as ipd\n",
    "from matplotlib import pyplot as plt\n",
    "from numpy import add\n",
    "from scipy.io import wavfile"
   ]
  },
  {
   "cell_type": "markdown",
   "metadata": {
    "id": "y27td0ALjFal"
   },
   "source": [
    "Before we get started, there are two important coding concepts we want to review...\n",
    "- *Variables* are text labels that are associated with certain values or lists of values\n",
    "- *Functions* are sets of instructions. We can think of functions as recipes - for a given recipe, we start with some raw ingredients (our variables from above) and we perform each of the recipe steps in order to make something with those ingredients\n",
    "\n",
    "Don't worry if this isn't totally clear yet! Once we get some practice, it will make more sense.\n"
   ]
  },
  {
   "cell_type": "markdown",
   "metadata": {
    "id": "Un0hEnH0OSYW"
   },
   "source": [
    "### **Activity 1: Variables and functions**\n",
    "**Run the Code cells below and answer the quick check questions.**"
   ]
  },
  {
   "cell_type": "code",
   "execution_count": null,
   "metadata": {
    "id": "w8sm9PmNJQb7"
   },
   "outputs": [],
   "source": [
    "# Defining some variables\n",
    "a = 2\n",
    "b = 4\n",
    "\n",
    "# Printing out the values\n",
    "print('The value of b is: ' + str(b))\n",
    "\n",
    "# Defining a list of values\n",
    "data = [1, 2, 3]\n",
    "print('The data list contains: ' + str(data))"
   ]
  },
  {
   "cell_type": "markdown",
   "metadata": {
    "id": "abh9jLBxpzzP"
   },
   "source": [
    "**Python Quick Check:**\n",
    "\n",
    "*   What is the number value associated with the variable called `a`?\n",
    "*   You see that there are `#` symbols in the cell, followed by green text. Try putting a `#` before the line that says ```print('The data list contains: ' + str(data))``` and re-run the cell. What happened? What do you think `#` is doing?\n",
    "\n"
   ]
  },
  {
   "cell_type": "code",
   "execution_count": null,
   "metadata": {
    "id": "c_QpBQEtpdEJ"
   },
   "outputs": [],
   "source": [
    "# We can do math by typing out the operations\n",
    "c = a + b\n",
    "print('c = ' + str(c))\n",
    "\n",
    "# We can also use a function and give the variables to the function\n",
    "d = add(a, b)\n",
    "print('d = ' + str(d))"
   ]
  },
  {
   "cell_type": "markdown",
   "metadata": {
    "id": "Pmc1iTVvqbdM"
   },
   "source": [
    "**Python Quick Check:**\n",
    "\n",
    "*   What does the function ```add``` do? (Hint: Compare the value of the variables ```c``` and ```d```)\n",
    "\n"
   ]
  },
  {
   "cell_type": "code",
   "execution_count": null,
   "metadata": {
    "id": "njCDkOdGJQb9"
   },
   "outputs": [],
   "source": [
    "# Plotting a diagonal line\n",
    "x = [1, 2, 3]\n",
    "y = [1, 2, 3]\n",
    "plt.plot(x, y, '-o')\n",
    "\n",
    "# Add helpful labels to our plot\n",
    "plt.title('My Plotted Line')\n",
    "plt.ylabel('y axis')\n",
    "plt.xlabel('x axis');"
   ]
  },
  {
   "cell_type": "markdown",
   "metadata": {
    "id": "VD90fIzhummS"
   },
   "source": [
    "**Python Quick Check:**\n",
    "\n",
    "*   Change the title of the plot to be something different (e.g. \"My first Python plot\"). Re-run the code cell so you can see the updated plot!"
   ]
  },
  {
   "cell_type": "markdown",
   "metadata": {
    "id": "QzBurSCklYfp"
   },
   "source": [
    "Now that we have that under our belt, we’re going to split up into breakout rooms and look at the next sections of the notebook in more detail. "
   ]
  },
  {
   "cell_type": "markdown",
   "metadata": {
    "id": "lO561L0BEU5C",
    "tags": []
   },
   "source": [
    " # Sounds #\n",
    "\n",
    "We can think of sound as vibrating air molecules that our ears can pick up on. Depending on the type of sound, these vibrations take on different patterns - which is why we can tell different speech sounds apart (e.g. an “s” sound from an “ah” sound). \n",
    "\n",
    "In this section we will, take a look at the couple of ways in which we can represent sound visually."
   ]
  },
  {
   "cell_type": "markdown",
   "metadata": {
    "id": "6l6k1Y2OJQb-"
   },
   "source": [
    "## Waveforms\n",
    "\n",
    "The first sound representation we will look at is called a *waveform*. Let's see what waveforms look like below."
   ]
  },
  {
   "cell_type": "markdown",
   "metadata": {
    "id": "wbRzonErO5e-"
   },
   "source": [
    "### **Activity 2: Looking at waveforms of our own speech**\n",
    "\n",
    "- Go to the website: https://oscilloscope.sciencemusic.org/\n",
    "- Press “Record” (red circle button) and click \"Allow Recording\"\n",
    "- Try saying \"ta ta ta\", \"you you you\", and then anything else you'd like\n",
    "- Try saying some things loud and some things quiet\n",
    "- Try saying some things slowly and some things fast\n",
    "\n",
    "**Discussion questions:**\n",
    "* What do you think is being plotted on the horizontal axis?\n",
    "* How about on the vertical axis?"
   ]
  },
  {
   "cell_type": "markdown",
   "metadata": {
    "id": "OcoKMWxkzDwe"
   },
   "source": [
    "Now we know what a waveform is! A *waveform* is a plot that shows the amplitude of sound vibrations across time.\n",
    "\n",
    "Unfortunately, some of the sound details are missing when we only look at the waveforms of sound. To illustrate this, see the waveforms below. They look pretty similar right?"
   ]
  },
  {
   "cell_type": "code",
   "execution_count": null,
   "metadata": {
    "id": "f6NqZ9y27-Oa"
   },
   "outputs": [],
   "source": [
    "# Plot the waveform of the sound clips\n",
    "# (here, we're making a plot with 2 subplots so we can plot 2 images in the \n",
    "# same graph)\n",
    "fig, ax = plt.subplots(1, 2, figsize=(18,10))\n",
    "\n",
    "# These functions load and display the waveform for Sound 1\n",
    "img = plt.imread('media/tatata.png')\n",
    "ax[0].imshow(img)\n",
    "ax[0].set_title('Sound 1')\n",
    "ax[0].axis('off');\n",
    "\n",
    "# These functions load and display the waveform for Sound 2\n",
    "img = plt.imread('media/kukuku.png')\n",
    "ax[1].imshow(img)\n",
    "ax[1].set_title('Sound 2')\n",
    "ax[1].axis('off');"
   ]
  },
  {
   "cell_type": "markdown",
   "metadata": {
    "id": "I3Q7AUGgzhQn"
   },
   "source": [
    "Now listen to them! They are different. How do we tell apart these sounds? Let’s look at sound in a different way...\n"
   ]
  },
  {
   "cell_type": "code",
   "execution_count": null,
   "metadata": {
    "id": "oLH19VD8_Fg4"
   },
   "outputs": [],
   "source": [
    "# These functions load and play Sound 1\n",
    "print('Sound 1')\n",
    "ipd.display(ipd.Audio('media/tatata.m4a'))\n",
    "\n",
    "# These functions load and play Sound 2\n",
    "print('Sound 2')\n",
    "ipd.display(ipd.Audio('media/kukuku.m4a'))"
   ]
  },
  {
   "cell_type": "markdown",
   "metadata": {
    "id": "xTvbJApJEJ6e"
   },
   "source": [
    "## Spectrograms ##\n",
    "\n",
    "The second way of visualizing sound is called a *spectrogram* ...\n",
    "\n"
   ]
  },
  {
   "cell_type": "markdown",
   "metadata": {
    "id": "gGIqEadePLwF"
   },
   "source": [
    "### **Activity 3: Looking at spectrograms of our own speech**\n",
    "\n",
    "- Go to the website: https://spectrogram.sciencemusic.org/\n",
    "- Press unmute on the red microphone icon at the top left corner of the window\n",
    "- Try speaking clearly and slowly in order to observe what different speech sounds look like\n",
    "- Try speaking in a low or high voice, how does the spectrogram change?\n",
    "\n",
    "**Discussion questions:**\n",
    "* Now, what do you think is being plotted on the horizontal axis? \n",
    "* How about on the vertical axis? What do you think the color means?"
   ]
  },
  {
   "cell_type": "markdown",
   "metadata": {
    "id": "78FJoksYolqL"
   },
   "source": [
    "Now let's look at the examples of two sounds that we could not tell apart using the waveform. Can we tell them apart using the spectrogram representation?"
   ]
  },
  {
   "cell_type": "code",
   "execution_count": null,
   "metadata": {
    "id": "h6JwKOtlANFh"
   },
   "outputs": [],
   "source": [
    "fig, ax = plt.subplots(1, 2, figsize = (18,10))\n",
    "\n",
    "# These functions load and display the spectrogram for Sound 1\n",
    "img = plt.imread('media/tatata_spec.png')\n",
    "ax[0].imshow(img)\n",
    "ax[0].set_title('Sound 1')\n",
    "ax[0].axis('off')\n",
    "\n",
    "# These functions load and display the spectrogram for Sound 2\n",
    "img = plt.imread('media/kukuku_spec.png')\n",
    "ax[1].imshow(img)\n",
    "ax[1].set_title('Sound 2')\n",
    "ax[1].axis('off');"
   ]
  },
  {
   "cell_type": "markdown",
   "metadata": {
    "id": "iUr5GPYQJQb_"
   },
   "source": [
    "## Waveform and spectrogram of pre-loaded sentences ##"
   ]
  },
  {
   "cell_type": "markdown",
   "metadata": {
    "id": "xrg3dAQKo56k"
   },
   "source": [
    "Now, we will be plotting the waveform of the corresponding spectrogram for two sentences that we pre-loaded into our notebook. First, let's listen to the sentence. Run the cell below to listen to the sentences."
   ]
  },
  {
   "cell_type": "code",
   "execution_count": null,
   "metadata": {
    "id": "OWUJt-IfJQcC"
   },
   "outputs": [],
   "source": [
    "# For each sentence, load the waveform from the data folder.\n",
    "for sent_num in [1, 2]:\n",
    "    \n",
    "    # This function loads the wavfile for the sentence number we want and\n",
    "    # tells us the sampling rate.\n",
    "    sr, sound = wavfile.read(f'data/sentence{sent_num}.wav')  \n",
    "    print(f'Sentence {sent_num}')\n",
    "    \n",
    "    # Display an audio widget to play the sound.\n",
    "    ipd.display(ipd.Audio(sound, rate=sr))"
   ]
  },
  {
   "cell_type": "code",
   "execution_count": null,
   "metadata": {
    "id": "rXLGg50y2Pw5"
   },
   "outputs": [],
   "source": [
    "# Load the function to tell us the text of the sentence we load\n",
    "from utils import get_sentence_text\n",
    "\n",
    "# Choose the sentence number (1 or 2)\n",
    "sent_num = 2\n",
    "\n",
    "# Load the wavform and it's sampling rate\n",
    "sr, sound = wavfile.read(f'data/sentence{sent_num}.wav')\n",
    "\n",
    "# Load the sentence text for the sentence we chose\n",
    "sentence_text = get_sentence_text(sent_num)"
   ]
  },
  {
   "cell_type": "code",
   "execution_count": null,
   "metadata": {
    "id": "3yCBgUYZ2Pw5"
   },
   "outputs": [],
   "source": [
    "from utils import plot_wavform_and_spectrogram\n",
    "\n",
    "plot_wavform_and_spectrogram(sound, sr, sentence_text)"
   ]
  },
  {
   "cell_type": "markdown",
   "metadata": {
    "id": "FZ8f7JGs9BRd"
   },
   "source": [
    "# Wrapping up #\n",
    "\n",
    "Let’s recap! In this tutorial we...\n",
    "- Introduced you to Python notebooks, an interactive tool where you can write, annotate, and run Python code\n",
    "- Showed you a couple of useful Python functions and explained why Python is such a powerful tool for data analysis and research\n",
    "- Talked about sound -- how it can be visualized in different ways. We showed you a representation of sound that has a time axis and an amplitude or frequency axis.\n",
    "\n",
    "We hope that you've enjoyed exploring this data with us! We'd like to leave you with a few additional resources, in case you are interested in learning more about Python or coding. See our compiled [resources list here](https://docs.google.com/document/d/1tN-aAEmVy0YaM1ua3uUL87F1iyF4rHju9vIsSiXczh0/edit?usp=sharing)!\n"
   ]
  }
 ],
 "metadata": {
  "colab": {
   "collapsed_sections": [],
   "name": "StructureOfSounds.ipynb",
   "provenance": [],
   "toc_visible": true
  },
  "kernelspec": {
   "display_name": "Python 3 (ipykernel)",
   "language": "python",
   "name": "python3"
  },
  "language_info": {
   "codemirror_mode": {
    "name": "ipython",
    "version": 3
   },
   "file_extension": ".py",
   "mimetype": "text/x-python",
   "name": "python",
   "nbconvert_exporter": "python",
   "pygments_lexer": "ipython3",
   "version": "3.9.7"
  }
 },
 "nbformat": 4,
 "nbformat_minor": 4
}
